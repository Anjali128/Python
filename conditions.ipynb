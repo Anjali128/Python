{
 "cells": [
  {
   "cell_type": "code",
   "execution_count": 1,
   "id": "238c81e5-04b6-493f-8d35-451895770043",
   "metadata": {},
   "outputs": [
    {
     "name": "stdout",
     "output_type": "stream",
     "text": [
      " YES a is less than 20\n"
     ]
    }
   ],
   "source": [
    "a = 10\n",
    "if a>10:\n",
    "    print(\" YES a is greater than 10\")\n",
    "elif a< 20:\n",
    "    print(\" YES a is less than 20\")\n",
    "else:\n",
    "    print(\"a is default\")"
   ]
  },
  {
   "cell_type": "code",
   "execution_count": 2,
   "id": "f7b508fb-9801-4772-b202-1e4b69662030",
   "metadata": {},
   "outputs": [
    {
     "name": "stdin",
     "output_type": "stream",
     "text": [
      " 54\n"
     ]
    },
    {
     "name": "stdout",
     "output_type": "stream",
     "text": [
      " YES a is greater than 10\n"
     ]
    }
   ],
   "source": [
    "a = int(input())\n",
    "if a>10:\n",
    "    print(\" YES a is greater than 10\")\n",
    "elif a< 20:\n",
    "    print(\" YES a is less than 20\")\n",
    "else:\n",
    "    print(\"a is default\")"
   ]
  },
  {
   "cell_type": "code",
   "execution_count": 6,
   "id": "59f464a5-723f-476d-bee5-f69812c4ccc5",
   "metadata": {},
   "outputs": [
    {
     "name": "stdout",
     "output_type": "stream",
     "text": [
      "1\n",
      "2\n",
      "3\n",
      "0\n"
     ]
    }
   ],
   "source": [
    "n=4\n",
    "i=1\n",
    "while i<n :\n",
    "    print(i)\n",
    "    i+=1\n",
    "else:\n",
    "    print(0)"
   ]
  },
  {
   "cell_type": "code",
   "execution_count": 7,
   "id": "46b8206e-ad85-4b42-8f57-1f02771425dd",
   "metadata": {},
   "outputs": [
    {
     "name": "stdout",
     "output_type": "stream",
     "text": [
      "1\n",
      "2\n"
     ]
    }
   ],
   "source": [
    "n=4\n",
    "i=1\n",
    "while i<n :\n",
    "    print(i)\n",
    "    i+=1\n",
    "    if(i==3):\n",
    "        break\n",
    "else:\n",
    "    print(0)"
   ]
  },
  {
   "cell_type": "code",
   "execution_count": 8,
   "id": "7f09046d-c10c-4ddc-a1e3-eb13516415d2",
   "metadata": {},
   "outputs": [
    {
     "name": "stdout",
     "output_type": "stream",
     "text": [
      "A\n",
      "n\n",
      "j\n",
      "a\n",
      "l\n",
      "i\n"
     ]
    }
   ],
   "source": [
    "s=\"Anjali\"\n",
    "for i in s:\n",
    "    print(i)"
   ]
  },
  {
   "cell_type": "code",
   "execution_count": 9,
   "id": "7de360be-46d0-494b-bc81-58d7ca0513d1",
   "metadata": {},
   "outputs": [
    {
     "name": "stdout",
     "output_type": "stream",
     "text": [
      "<class 'int'>\n",
      "<class 'int'>\n",
      "<class 'int'>\n",
      "<class 'str'>\n",
      "<class 'float'>\n",
      "<class 'str'>\n"
     ]
    }
   ],
   "source": [
    "l = [2,4,6,\"Anjali\",22.4,\"female\"]\n",
    "for i in l:\n",
    "    print (type(i))"
   ]
  },
  {
   "cell_type": "code",
   "execution_count": 10,
   "id": "e3d79b30-b0c0-4dd6-90fe-fe504d10e0ea",
   "metadata": {},
   "outputs": [
    {
     "name": "stdout",
     "output_type": "stream",
     "text": [
      "<class 'int'>\n",
      "<class 'int'>\n",
      "<class 'int'>\n"
     ]
    }
   ],
   "source": [
    "for i in l:\n",
    "    print (type(i))\n",
    "    if i==6:\n",
    "        break"
   ]
  },
  {
   "cell_type": "code",
   "execution_count": 14,
   "id": "44b967a6-b559-4a3b-9d2c-486fc6a54e35",
   "metadata": {},
   "outputs": [
    {
     "name": "stdout",
     "output_type": "stream",
     "text": [
      "<class 'int'>\n",
      "2\n",
      "<class 'int'>\n",
      "4\n",
      "<class 'int'>\n",
      "<class 'str'>\n",
      "Anjali\n",
      "<class 'float'>\n",
      "22.4\n",
      "<class 'str'>\n",
      "female\n",
      " This will execute after for loop \n"
     ]
    }
   ],
   "source": [
    "for i in l:\n",
    "    print (type(i))\n",
    "    if i==6:\n",
    "        continue\n",
    "    print(i)\n",
    "else :\n",
    "    print(\" This will execute after for loop \")"
   ]
  },
  {
   "cell_type": "code",
   "execution_count": 15,
   "id": "e1ff5fe7-b77b-48ae-9a56-b9f7acfbf21d",
   "metadata": {},
   "outputs": [
    {
     "data": {
      "text/plain": [
       "range(0, 10)"
      ]
     },
     "execution_count": 15,
     "metadata": {},
     "output_type": "execute_result"
    }
   ],
   "source": [
    "range (10)"
   ]
  },
  {
   "cell_type": "code",
   "execution_count": 16,
   "id": "989b446c-c3db-4776-9448-c148948a0f23",
   "metadata": {},
   "outputs": [
    {
     "data": {
      "text/plain": [
       "[0, 1, 2, 3, 4, 5, 6, 7, 8, 9]"
      ]
     },
     "execution_count": 16,
     "metadata": {},
     "output_type": "execute_result"
    }
   ],
   "source": [
    "list (range (10))"
   ]
  },
  {
   "cell_type": "code",
   "execution_count": null,
   "id": "f925f6bd-b56a-43f9-804f-86fc5dd01e4e",
   "metadata": {},
   "outputs": [],
   "source": []
  }
 ],
 "metadata": {
  "kernelspec": {
   "display_name": "Python 3 (ipykernel)",
   "language": "python",
   "name": "python3"
  },
  "language_info": {
   "codemirror_mode": {
    "name": "ipython",
    "version": 3
   },
   "file_extension": ".py",
   "mimetype": "text/x-python",
   "name": "python",
   "nbconvert_exporter": "python",
   "pygments_lexer": "ipython3",
   "version": "3.10.8"
  }
 },
 "nbformat": 4,
 "nbformat_minor": 5
}
