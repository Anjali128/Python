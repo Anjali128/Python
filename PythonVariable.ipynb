{
 "cells": [
  {
   "cell_type": "code",
   "execution_count": 9,
   "id": "bc2c4992-7941-4509-896d-83db135d7965",
   "metadata": {},
   "outputs": [],
   "source": [
    "a = 1"
   ]
  },
  {
   "cell_type": "code",
   "execution_count": 10,
   "id": "eef158e8-d3fe-4bfb-9b7d-6f3a2088b397",
   "metadata": {},
   "outputs": [
    {
     "data": {
      "text/plain": [
       "int"
      ]
     },
     "execution_count": 10,
     "metadata": {},
     "output_type": "execute_result"
    }
   ],
   "source": [
    "type(a)"
   ]
  },
  {
   "cell_type": "code",
   "execution_count": 11,
   "id": "9eccf711-976c-4814-a6ae-5558097ff767",
   "metadata": {},
   "outputs": [
    {
     "data": {
      "text/plain": [
       "1"
      ]
     },
     "execution_count": 11,
     "metadata": {},
     "output_type": "execute_result"
    }
   ],
   "source": [
    "a"
   ]
  },
  {
   "cell_type": "code",
   "execution_count": 12,
   "id": "d200a7cf-0050-4895-b3ca-085f3eb7347a",
   "metadata": {},
   "outputs": [],
   "source": [
    "b='Anjali'"
   ]
  },
  {
   "cell_type": "code",
   "execution_count": 6,
   "id": "fe215dda-91b6-4b7e-b2b1-da29752e7ba5",
   "metadata": {},
   "outputs": [
    {
     "data": {
      "text/plain": [
       "str"
      ]
     },
     "execution_count": 6,
     "metadata": {},
     "output_type": "execute_result"
    }
   ],
   "source": [
    "type(b)"
   ]
  },
  {
   "cell_type": "code",
   "execution_count": 13,
   "id": "45b75dde-891a-43a9-a037-73d740355461",
   "metadata": {},
   "outputs": [
    {
     "ename": "NameError",
     "evalue": "name 'dgggggv' is not defined",
     "output_type": "error",
     "traceback": [
      "\u001b[0;31m---------------------------------------------------------------------------\u001b[0m",
      "\u001b[0;31mNameError\u001b[0m                                 Traceback (most recent call last)",
      "Cell \u001b[0;32mIn[13], line 1\u001b[0m\n\u001b[0;32m----> 1\u001b[0m b\u001b[38;5;241m=\u001b[39m\u001b[43mdgggggv\u001b[49m\n",
      "\u001b[0;31mNameError\u001b[0m: name 'dgggggv' is not defined"
     ]
    }
   ],
   "source": [
    "b=dgggggv"
   ]
  },
  {
   "cell_type": "code",
   "execution_count": 15,
   "id": "1c5a0158-22c6-444e-8967-d560b93f8e40",
   "metadata": {},
   "outputs": [],
   "source": [
    "c=45.5"
   ]
  },
  {
   "cell_type": "code",
   "execution_count": 16,
   "id": "a7c7e654-7cfe-418d-81fe-2a6bf30acaf6",
   "metadata": {},
   "outputs": [
    {
     "data": {
      "text/plain": [
       "float"
      ]
     },
     "execution_count": 16,
     "metadata": {},
     "output_type": "execute_result"
    }
   ],
   "source": [
    "type(c)"
   ]
  },
  {
   "cell_type": "code",
   "execution_count": 17,
   "id": "070f5a25-aa6a-4019-9592-7c5db916decb",
   "metadata": {},
   "outputs": [],
   "source": [
    "anjali=5821"
   ]
  },
  {
   "cell_type": "code",
   "execution_count": 18,
   "id": "a0e8f13b-0aac-427f-90b1-e4e0ae2165cc",
   "metadata": {},
   "outputs": [
    {
     "data": {
      "text/plain": [
       "int"
      ]
     },
     "execution_count": 18,
     "metadata": {},
     "output_type": "execute_result"
    }
   ],
   "source": [
    "type(anjali)"
   ]
  },
  {
   "cell_type": "code",
   "execution_count": 19,
   "id": "a2f0dfd8-c0b7-400b-be07-2d4d756421b2",
   "metadata": {},
   "outputs": [],
   "source": [
    "d=True"
   ]
  },
  {
   "cell_type": "code",
   "execution_count": 20,
   "id": "3a7ea99b-3cb3-409f-83c9-26bdbca4308b",
   "metadata": {},
   "outputs": [
    {
     "data": {
      "text/plain": [
       "bool"
      ]
     },
     "execution_count": 20,
     "metadata": {},
     "output_type": "execute_result"
    }
   ],
   "source": [
    "type(d)"
   ]
  },
  {
   "cell_type": "code",
   "execution_count": 21,
   "id": "8776e868-272e-4742-aba8-e37155a63fcb",
   "metadata": {},
   "outputs": [
    {
     "data": {
      "text/plain": [
       "1"
      ]
     },
     "execution_count": 21,
     "metadata": {},
     "output_type": "execute_result"
    }
   ],
   "source": [
    "True - False  #Internally proving true=1 & False =0"
   ]
  },
  {
   "cell_type": "code",
   "execution_count": 22,
   "id": "e899b0ac-cfda-4cf0-bfe0-a93dc4fd993f",
   "metadata": {},
   "outputs": [
    {
     "data": {
      "text/plain": [
       "0"
      ]
     },
     "execution_count": 22,
     "metadata": {},
     "output_type": "execute_result"
    }
   ],
   "source": [
    "True * False"
   ]
  },
  {
   "cell_type": "code",
   "execution_count": 23,
   "id": "3581c2cb-8cfa-4205-97ec-ef05d58d15b5",
   "metadata": {},
   "outputs": [
    {
     "ename": "ZeroDivisionError",
     "evalue": "division by zero",
     "output_type": "error",
     "traceback": [
      "\u001b[0;31m---------------------------------------------------------------------------\u001b[0m",
      "\u001b[0;31mZeroDivisionError\u001b[0m                         Traceback (most recent call last)",
      "Cell \u001b[0;32mIn[23], line 1\u001b[0m\n\u001b[0;32m----> 1\u001b[0m \u001b[38;5;28;43;01mTrue\u001b[39;49;00m\u001b[38;5;241;43m/\u001b[39;49m\u001b[38;5;28;43;01mFalse\u001b[39;49;00m\n",
      "\u001b[0;31mZeroDivisionError\u001b[0m: division by zero"
     ]
    }
   ],
   "source": [
    "True/False"
   ]
  },
  {
   "cell_type": "code",
   "execution_count": 24,
   "id": "1c399ffd-fb71-4d0e-8696-3689a6c93acd",
   "metadata": {},
   "outputs": [],
   "source": [
    "e= 5+4j"
   ]
  },
  {
   "cell_type": "code",
   "execution_count": 25,
   "id": "6f640355-5821-4147-aa5d-701492dd7f3d",
   "metadata": {},
   "outputs": [
    {
     "data": {
      "text/plain": [
       "complex"
      ]
     },
     "execution_count": 25,
     "metadata": {},
     "output_type": "execute_result"
    }
   ],
   "source": [
    "type(e)"
   ]
  },
  {
   "cell_type": "code",
   "execution_count": 26,
   "id": "871ad48b-3c94-4ff8-a9eb-3609b018bfce",
   "metadata": {},
   "outputs": [
    {
     "ename": "SyntaxError",
     "evalue": "invalid decimal literal (1325367691.py, line 1)",
     "output_type": "error",
     "traceback": [
      "\u001b[0;36m  Cell \u001b[0;32mIn[26], line 1\u001b[0;36m\u001b[0m\n\u001b[0;31m    f=5+4i    # complex numbers are identified only by j\u001b[0m\n\u001b[0m        ^\u001b[0m\n\u001b[0;31mSyntaxError\u001b[0m\u001b[0;31m:\u001b[0m invalid decimal literal\n"
     ]
    }
   ],
   "source": [
    "f=5+4i    # complex numbers are identified only by j"
   ]
  },
  {
   "cell_type": "code",
   "execution_count": 27,
   "id": "2c6e817d-2bd9-4da2-bdb1-bcf636dffa47",
   "metadata": {},
   "outputs": [
    {
     "name": "stdout",
     "output_type": "stream",
     "text": [
      "0\n"
     ]
    }
   ],
   "source": [
    "g=True\n",
    "h=g*False\n",
    "#i=g*h\n",
    "#print(i)\n",
    "print(h)"
   ]
  },
  {
   "cell_type": "code",
   "execution_count": 28,
   "id": "cf83d342-ae49-4b66-ad8b-11f0f7baf858",
   "metadata": {},
   "outputs": [
    {
     "data": {
      "text/plain": [
       "(5+4j)"
      ]
     },
     "execution_count": 28,
     "metadata": {},
     "output_type": "execute_result"
    }
   ],
   "source": [
    "e     # separating real and imaginary part from complex number"
   ]
  },
  {
   "cell_type": "code",
   "execution_count": 29,
   "id": "0a11782b-6c8c-4cf7-8f21-ab7975260939",
   "metadata": {},
   "outputs": [
    {
     "data": {
      "text/plain": [
       "5.0"
      ]
     },
     "execution_count": 29,
     "metadata": {},
     "output_type": "execute_result"
    }
   ],
   "source": [
    "e.real     #press tab after (.)"
   ]
  },
  {
   "cell_type": "code",
   "execution_count": 30,
   "id": "5e2440ec-6ca9-47ec-a45a-3634386b0c74",
   "metadata": {},
   "outputs": [
    {
     "data": {
      "text/plain": [
       "4.0"
      ]
     },
     "execution_count": 30,
     "metadata": {},
     "output_type": "execute_result"
    }
   ],
   "source": [
    "e.imag    #here 0is a notation that python uses"
   ]
  },
  {
   "cell_type": "code",
   "execution_count": null,
   "id": "bf5e3ca5-002d-40ae-aed1-92150c606c40",
   "metadata": {},
   "outputs": [],
   "source": []
  }
 ],
 "metadata": {
  "kernelspec": {
   "display_name": "Python 3 (ipykernel)",
   "language": "python",
   "name": "python3"
  },
  "language_info": {
   "codemirror_mode": {
    "name": "ipython",
    "version": 3
   },
   "file_extension": ".py",
   "mimetype": "text/x-python",
   "name": "python",
   "nbconvert_exporter": "python",
   "pygments_lexer": "ipython3",
   "version": "3.10.8"
  }
 },
 "nbformat": 4,
 "nbformat_minor": 5
}
