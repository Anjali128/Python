{
 "cells": [
  {
   "cell_type": "code",
   "execution_count": 5,
   "id": "da13165a-faf9-4b1f-afac-741e011fd35b",
   "metadata": {},
   "outputs": [],
   "source": [
    "s=\"Suraj\""
   ]
  },
  {
   "cell_type": "code",
   "execution_count": 18,
   "id": "0470bf7c-0e24-4b6c-8e0e-51a07d76af53",
   "metadata": {},
   "outputs": [],
   "source": [
    "l=[2,3,5,6,\"Anjali\",5+7j,\"female\",True,54.62]"
   ]
  },
  {
   "cell_type": "code",
   "execution_count": 19,
   "id": "fc810be6-4cd0-4bc5-80f9-ddf2a824d16c",
   "metadata": {},
   "outputs": [],
   "source": [
    "l[4] = 'vikas'     #"
   ]
  },
  {
   "cell_type": "code",
   "execution_count": 20,
   "id": "f9fb500b-6be2-4ff4-bcdf-6a9397473583",
   "metadata": {},
   "outputs": [
    {
     "data": {
      "text/plain": [
       "[2, 3, 5, 6, 'vikas', (5+7j), 'female', True, 54.62]"
      ]
     },
     "execution_count": 20,
     "metadata": {},
     "output_type": "execute_result"
    }
   ],
   "source": [
    "l"
   ]
  },
  {
   "cell_type": "code",
   "execution_count": 10,
   "id": "35a75209-edc9-464d-a5cd-10b9ae5637b2",
   "metadata": {},
   "outputs": [],
   "source": [
    "l[6] = 'male'"
   ]
  },
  {
   "cell_type": "code",
   "execution_count": 11,
   "id": "e4ebcf04-d1d9-4d8f-b1b0-49273ebf8c92",
   "metadata": {},
   "outputs": [
    {
     "data": {
      "text/plain": [
       "[2, 3, 5, 6, 'vikash', (5+7j), 'male', True, 54.62]"
      ]
     },
     "execution_count": 11,
     "metadata": {},
     "output_type": "execute_result"
    }
   ],
   "source": [
    "l"
   ]
  },
  {
   "cell_type": "code",
   "execution_count": 21,
   "id": "b5f3cadf-2bc2-4aaa-bb2b-490f09f77ca8",
   "metadata": {},
   "outputs": [],
   "source": [
    "s = \"Anjali\"         #not the property of mutable and immutable as it is only applicable in changing the values of index"
   ]
  },
  {
   "cell_type": "code",
   "execution_count": 22,
   "id": "e05f8edc-6219-4f34-80db-7f7d0e43417a",
   "metadata": {},
   "outputs": [
    {
     "data": {
      "text/plain": [
       "'Anjali'"
      ]
     },
     "execution_count": 22,
     "metadata": {},
     "output_type": "execute_result"
    }
   ],
   "source": [
    "s"
   ]
  },
  {
   "cell_type": "markdown",
   "id": "517b13a8-a932-44df-92af-3b334be1f60b",
   "metadata": {},
   "source": [
    "String Slicing"
   ]
  },
  {
   "cell_type": "code",
   "execution_count": 1,
   "id": "e030b994-524c-4713-91ca-3fae06bfd80e",
   "metadata": {},
   "outputs": [],
   "source": [
    "s=\"pwskills\""
   ]
  },
  {
   "cell_type": "code",
   "execution_count": 2,
   "id": "92e6543f-6a58-4e97-9a3a-3a88b326565f",
   "metadata": {},
   "outputs": [
    {
     "data": {
      "text/plain": [
       "'skil'"
      ]
     },
     "execution_count": 2,
     "metadata": {},
     "output_type": "execute_result"
    }
   ],
   "source": [
    "s[2:6]"
   ]
  },
  {
   "cell_type": "code",
   "execution_count": 3,
   "id": "6cc2f2a6-6db2-4391-a16d-5612e6194df8",
   "metadata": {},
   "outputs": [
    {
     "data": {
      "text/plain": [
       "'il'"
      ]
     },
     "execution_count": 3,
     "metadata": {},
     "output_type": "execute_result"
    }
   ],
   "source": [
    "s[4: : 2]"
   ]
  },
  {
   "cell_type": "code",
   "execution_count": 4,
   "id": "975fa6bd-88bb-4d12-aa9e-bb000309e44d",
   "metadata": {},
   "outputs": [
    {
     "data": {
      "text/plain": [
       "'pwsk'"
      ]
     },
     "execution_count": 4,
     "metadata": {},
     "output_type": "execute_result"
    }
   ],
   "source": [
    "s[0:4:1]"
   ]
  },
  {
   "cell_type": "code",
   "execution_count": 5,
   "id": "753a16c2-5f1c-4486-901c-e2e45c14bd5a",
   "metadata": {},
   "outputs": [
    {
     "data": {
      "text/plain": [
       "'sil'"
      ]
     },
     "execution_count": 5,
     "metadata": {},
     "output_type": "execute_result"
    }
   ],
   "source": [
    "s[2: :2]"
   ]
  },
  {
   "cell_type": "code",
   "execution_count": 6,
   "id": "f62a5286-8b59-4d94-878d-de833927291c",
   "metadata": {},
   "outputs": [
    {
     "ename": "ValueError",
     "evalue": "slice step cannot be zero",
     "output_type": "error",
     "traceback": [
      "\u001b[0;31m---------------------------------------------------------------------------\u001b[0m",
      "\u001b[0;31mValueError\u001b[0m                                Traceback (most recent call last)",
      "Cell \u001b[0;32mIn[6], line 1\u001b[0m\n\u001b[0;32m----> 1\u001b[0m \u001b[43ms\u001b[49m\u001b[43m[\u001b[49m\u001b[38;5;241;43m2\u001b[39;49m\u001b[43m:\u001b[49m\u001b[43m \u001b[49m\u001b[43m:\u001b[49m\u001b[43m \u001b[49m\u001b[38;5;241;43m0\u001b[39;49m\u001b[43m]\u001b[49m\n",
      "\u001b[0;31mValueError\u001b[0m: slice step cannot be zero"
     ]
    }
   ],
   "source": [
    "s[2: : 0]"
   ]
  },
  {
   "cell_type": "code",
   "execution_count": 7,
   "id": "218006fd-cac9-4d3a-9ae7-12ee82a885f8",
   "metadata": {},
   "outputs": [
    {
     "data": {
      "text/plain": [
       "'sllikswp'"
      ]
     },
     "execution_count": 7,
     "metadata": {},
     "output_type": "execute_result"
    }
   ],
   "source": [
    "s[: : -1]"
   ]
  },
  {
   "cell_type": "code",
   "execution_count": 8,
   "id": "11aa45d3-e86b-4ab9-b953-89067bf0c36f",
   "metadata": {},
   "outputs": [
    {
     "data": {
      "text/plain": [
       "''"
      ]
     },
     "execution_count": 8,
     "metadata": {},
     "output_type": "execute_result"
    }
   ],
   "source": [
    "s[2:7:-1]"
   ]
  },
  {
   "cell_type": "code",
   "execution_count": 9,
   "id": "3fda3807-2a0b-43d3-9164-ca8ce6146b32",
   "metadata": {},
   "outputs": [
    {
     "data": {
      "text/plain": [
       "''"
      ]
     },
     "execution_count": 9,
     "metadata": {},
     "output_type": "execute_result"
    }
   ],
   "source": [
    "s[8:0]"
   ]
  },
  {
   "cell_type": "code",
   "execution_count": 10,
   "id": "49759a34-c1f9-4821-9cc2-76df5f482d8e",
   "metadata": {},
   "outputs": [
    {
     "data": {
      "text/plain": [
       "'psil'"
      ]
     },
     "execution_count": 10,
     "metadata": {},
     "output_type": "execute_result"
    }
   ],
   "source": [
    "s[::2]"
   ]
  },
  {
   "cell_type": "code",
   "execution_count": 11,
   "id": "8bc6000b-7672-453f-8753-2c40e49d8226",
   "metadata": {},
   "outputs": [
    {
     "data": {
      "text/plain": [
       "'slliksw'"
      ]
     },
     "execution_count": 11,
     "metadata": {},
     "output_type": "execute_result"
    }
   ],
   "source": [
    "s[8:0:-1]"
   ]
  },
  {
   "cell_type": "code",
   "execution_count": 12,
   "id": "ad0ef19c-cde1-48e0-9ec7-400c3c613abf",
   "metadata": {},
   "outputs": [
    {
     "data": {
      "text/plain": [
       "''"
      ]
     },
     "execution_count": 12,
     "metadata": {},
     "output_type": "execute_result"
    }
   ],
   "source": [
    "s[-2:-8:1]"
   ]
  },
  {
   "cell_type": "code",
   "execution_count": 13,
   "id": "2015910d-3359-4aa6-a134-4e93d1d421d9",
   "metadata": {},
   "outputs": [
    {
     "data": {
      "text/plain": [
       "'llikswp'"
      ]
     },
     "execution_count": 13,
     "metadata": {},
     "output_type": "execute_result"
    }
   ],
   "source": [
    "s[-2::-1]"
   ]
  },
  {
   "cell_type": "code",
   "execution_count": 14,
   "id": "994c1d67-faae-4c66-8ecb-e729705b8537",
   "metadata": {},
   "outputs": [
    {
     "data": {
      "text/plain": [
       "'pwskills'"
      ]
     },
     "execution_count": 14,
     "metadata": {},
     "output_type": "execute_result"
    }
   ],
   "source": [
    "s[:90:1]"
   ]
  },
  {
   "cell_type": "code",
   "execution_count": 15,
   "id": "0a37ebb7-9b14-48d8-a1b0-9aa563d54ce2",
   "metadata": {},
   "outputs": [
    {
     "data": {
      "text/plain": [
       "''"
      ]
     },
     "execution_count": 15,
     "metadata": {},
     "output_type": "execute_result"
    }
   ],
   "source": [
    "s[:-90:1]"
   ]
  },
  {
   "cell_type": "code",
   "execution_count": 16,
   "id": "a10bd78b-6d2a-4df9-a057-0a4a2bf95c8f",
   "metadata": {},
   "outputs": [
    {
     "data": {
      "text/plain": [
       "''"
      ]
     },
     "execution_count": 16,
     "metadata": {},
     "output_type": "execute_result"
    }
   ],
   "source": [
    "s[:-90:]"
   ]
  },
  {
   "cell_type": "code",
   "execution_count": 17,
   "id": "40688644-1e54-4f39-848b-527a047e2b10",
   "metadata": {},
   "outputs": [
    {
     "ename": "IndexError",
     "evalue": "string index out of range",
     "output_type": "error",
     "traceback": [
      "\u001b[0;31m---------------------------------------------------------------------------\u001b[0m",
      "\u001b[0;31mIndexError\u001b[0m                                Traceback (most recent call last)",
      "Cell \u001b[0;32mIn[17], line 1\u001b[0m\n\u001b[0;32m----> 1\u001b[0m \u001b[43ms\u001b[49m\u001b[43m[\u001b[49m\u001b[38;5;241;43m90\u001b[39;49m\u001b[43m]\u001b[49m\n",
      "\u001b[0;31mIndexError\u001b[0m: string index out of range"
     ]
    }
   ],
   "source": [
    "s[90]          #bcoz 90 points to index"
   ]
  },
  {
   "cell_type": "code",
   "execution_count": 18,
   "id": "a603c7ce-4d6b-4547-976e-ebf3f4878f88",
   "metadata": {},
   "outputs": [
    {
     "name": "stdout",
     "output_type": "stream",
     "text": [
      "0\n"
     ]
    }
   ],
   "source": [
    "c=200\n",
    "d=c%2\n",
    "print(d)"
   ]
  },
  {
   "cell_type": "code",
   "execution_count": 2,
   "id": "8e601685-ca37-43f2-b238-a6ef6d170b1e",
   "metadata": {},
   "outputs": [],
   "source": [
    "s1 = \" This is my string class \""
   ]
  },
  {
   "cell_type": "code",
   "execution_count": 3,
   "id": "94d1b04c-02a2-4245-b648-1e06784fe7fe",
   "metadata": {},
   "outputs": [
    {
     "data": {
      "text/plain": [
       "25"
      ]
     },
     "execution_count": 3,
     "metadata": {},
     "output_type": "execute_result"
    }
   ],
   "source": [
    "len(s1)"
   ]
  },
  {
   "cell_type": "code",
   "execution_count": 4,
   "id": "2db4700a-ace8-4fdf-87fa-4a59254fa74c",
   "metadata": {},
   "outputs": [
    {
     "data": {
      "text/plain": [
       "4"
      ]
     },
     "execution_count": 4,
     "metadata": {},
     "output_type": "execute_result"
    }
   ],
   "source": [
    "s1.find('s')  #finds the first index  , if u want to check what the particular function is used for just type SHIFT+TAB"
   ]
  },
  {
   "cell_type": "code",
   "execution_count": 7,
   "id": "cedf2414-9749-416f-aae8-77109aa006c2",
   "metadata": {},
   "outputs": [
    {
     "data": {
      "text/plain": [
       "3"
      ]
     },
     "execution_count": 7,
     "metadata": {},
     "output_type": "execute_result"
    }
   ],
   "source": [
    "s1.find('is')"
   ]
  },
  {
   "cell_type": "code",
   "execution_count": 5,
   "id": "86103abf-4881-438c-bf8a-687921a41bad",
   "metadata": {},
   "outputs": [
    {
     "data": {
      "text/plain": [
       "-1"
      ]
     },
     "execution_count": 5,
     "metadata": {},
     "output_type": "execute_result"
    }
   ],
   "source": [
    "s1.find('Is')     #if it doesnot find a particular character then it will return -1"
   ]
  },
  {
   "cell_type": "code",
   "execution_count": 6,
   "id": "e00159ad-436e-4bde-9952-48a9dee94d88",
   "metadata": {},
   "outputs": [
    {
     "data": {
      "text/plain": [
       "5"
      ]
     },
     "execution_count": 6,
     "metadata": {},
     "output_type": "execute_result"
    }
   ],
   "source": [
    "s1.count('s')"
   ]
  },
  {
   "cell_type": "code",
   "execution_count": 7,
   "id": "8d71f2b9-d559-4b0e-80a0-d3cb4b3b0f8b",
   "metadata": {},
   "outputs": [
    {
     "data": {
      "text/plain": [
       "1"
      ]
     },
     "execution_count": 7,
     "metadata": {},
     "output_type": "execute_result"
    }
   ],
   "source": [
    "s1.count('st')"
   ]
  },
  {
   "cell_type": "code",
   "execution_count": 8,
   "id": "a086fc43-8521-43e7-bf27-8bbff1288dda",
   "metadata": {},
   "outputs": [
    {
     "data": {
      "text/plain": [
       "0"
      ]
     },
     "execution_count": 8,
     "metadata": {},
     "output_type": "execute_result"
    }
   ],
   "source": [
    "s1.count('o')"
   ]
  },
  {
   "cell_type": "code",
   "execution_count": 9,
   "id": "dcff11d8-c2b4-4098-97e4-23ca31924a6b",
   "metadata": {},
   "outputs": [
    {
     "data": {
      "text/plain": [
       "' THIS IS MY STRING CLASS '"
      ]
     },
     "execution_count": 9,
     "metadata": {},
     "output_type": "execute_result"
    }
   ],
   "source": [
    "s1.upper()"
   ]
  },
  {
   "cell_type": "code",
   "execution_count": 10,
   "id": "10f750fe-7049-40fb-b05c-34b118fe7597",
   "metadata": {},
   "outputs": [
    {
     "data": {
      "text/plain": [
       "' this is my string class '"
      ]
     },
     "execution_count": 10,
     "metadata": {},
     "output_type": "execute_result"
    }
   ],
   "source": [
    "s1.lower()"
   ]
  },
  {
   "cell_type": "code",
   "execution_count": 12,
   "id": "6d224f71-01d6-4f1f-82bd-72fb86ebdde2",
   "metadata": {},
   "outputs": [
    {
     "data": {
      "text/plain": [
       "' This Is My String Class '"
      ]
     },
     "execution_count": 12,
     "metadata": {},
     "output_type": "execute_result"
    }
   ],
   "source": [
    "s1.title()"
   ]
  },
  {
   "cell_type": "code",
   "execution_count": 14,
   "id": "998316e9-8c01-4392-b4c6-1ff536ac642d",
   "metadata": {},
   "outputs": [
    {
     "data": {
      "text/plain": [
       "' this is my string class '"
      ]
     },
     "execution_count": 14,
     "metadata": {},
     "output_type": "execute_result"
    }
   ],
   "source": [
    "s1.capitalize()"
   ]
  },
  {
   "cell_type": "code",
   "execution_count": 23,
   "id": "65828dcd-57d2-4b18-8c6a-7c425318c404",
   "metadata": {},
   "outputs": [],
   "source": [
    "s=\"Anjali \""
   ]
  },
  {
   "cell_type": "code",
   "execution_count": 17,
   "id": "62a56fb4-e92c-4c01-8f75-dcaf3e243607",
   "metadata": {},
   "outputs": [
    {
     "ename": "TypeError",
     "evalue": "can only concatenate str (not \"int\") to str",
     "output_type": "error",
     "traceback": [
      "\u001b[0;31m---------------------------------------------------------------------------\u001b[0m",
      "\u001b[0;31mTypeError\u001b[0m                                 Traceback (most recent call last)",
      "Cell \u001b[0;32mIn[17], line 1\u001b[0m\n\u001b[0;32m----> 1\u001b[0m \u001b[43ms\u001b[49m\u001b[38;5;241;43m+\u001b[39;49m\u001b[38;5;241;43m1\u001b[39;49m\n",
      "\u001b[0;31mTypeError\u001b[0m: can only concatenate str (not \"int\") to str"
     ]
    }
   ],
   "source": [
    "s+1"
   ]
  },
  {
   "cell_type": "code",
   "execution_count": 19,
   "id": "72698b34-fc35-45e4-a44c-942d1ed50043",
   "metadata": {},
   "outputs": [
    {
     "data": {
      "text/plain": [
       "'Anjali Kumari'"
      ]
     },
     "execution_count": 19,
     "metadata": {},
     "output_type": "execute_result"
    }
   ],
   "source": [
    "s+\" Kumari\""
   ]
  },
  {
   "cell_type": "code",
   "execution_count": 20,
   "id": "c7dbd9dd-d701-4ff5-bbde-c415df4c1678",
   "metadata": {},
   "outputs": [
    {
     "data": {
      "text/plain": [
       "'Anjali1'"
      ]
     },
     "execution_count": 20,
     "metadata": {},
     "output_type": "execute_result"
    }
   ],
   "source": [
    "s+\"1\""
   ]
  },
  {
   "cell_type": "code",
   "execution_count": 24,
   "id": "889cedf8-2db0-48a4-a460-e33742dbc406",
   "metadata": {},
   "outputs": [
    {
     "data": {
      "text/plain": [
       "'Anjali Anjali Anjali '"
      ]
     },
     "execution_count": 24,
     "metadata": {},
     "output_type": "execute_result"
    }
   ],
   "source": [
    "s*3"
   ]
  },
  {
   "cell_type": "code",
   "execution_count": 25,
   "id": "8ebbae7b-be54-4a58-9fbc-4b739b9e70c9",
   "metadata": {},
   "outputs": [
    {
     "ename": "TypeError",
     "evalue": "unsupported operand type(s) for /: 'str' and 'int'",
     "output_type": "error",
     "traceback": [
      "\u001b[0;31m---------------------------------------------------------------------------\u001b[0m",
      "\u001b[0;31mTypeError\u001b[0m                                 Traceback (most recent call last)",
      "Cell \u001b[0;32mIn[25], line 1\u001b[0m\n\u001b[0;32m----> 1\u001b[0m \u001b[43ms\u001b[49m\u001b[38;5;241;43m/\u001b[39;49m\u001b[38;5;241;43m4\u001b[39;49m\n",
      "\u001b[0;31mTypeError\u001b[0m: unsupported operand type(s) for /: 'str' and 'int'"
     ]
    }
   ],
   "source": [
    "s/4"
   ]
  },
  {
   "cell_type": "code",
   "execution_count": null,
   "id": "d49ba70e-6206-4284-a647-9508e618b7ec",
   "metadata": {},
   "outputs": [],
   "source": []
  }
 ],
 "metadata": {
  "kernelspec": {
   "display_name": "Python 3 (ipykernel)",
   "language": "python",
   "name": "python3"
  },
  "language_info": {
   "codemirror_mode": {
    "name": "ipython",
    "version": 3
   },
   "file_extension": ".py",
   "mimetype": "text/x-python",
   "name": "python",
   "nbconvert_exporter": "python",
   "pygments_lexer": "ipython3",
   "version": "3.10.8"
  }
 },
 "nbformat": 4,
 "nbformat_minor": 5
}
