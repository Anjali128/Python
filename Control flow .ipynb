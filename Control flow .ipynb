{
 "cells": [
  {
   "cell_type": "code",
   "execution_count": 12,
   "id": "e442eb76-f4a5-49c3-915b-f81522ae8bca",
   "metadata": {},
   "outputs": [
    {
     "name": "stdin",
     "output_type": "stream",
     "text": [
      "Enter your marks 54\n"
     ]
    },
    {
     "name": "stdout",
     "output_type": "stream",
     "text": [
      "You willl be a part of A1 batch\n"
     ]
    }
   ],
   "source": [
    "#marks = 56\n",
    "marks = int(input(\"Enter your marks\"))\n",
    "if marks >= 80:\n",
    "    print(\"You will be part of A0 batch\")\n",
    "elif marks>=40 and marks<80 :\n",
    "    print(\"You will be a part of A1 batch\")\n",
    "else:\n",
    "    print(\"You will be a part of A1 batch\")\n"
   ]
  },
  {
   "cell_type": "code",
   "execution_count": 13,
   "id": "d8d42c2d-af11-4b65-91b8-a1cfb9ce9410",
   "metadata": {},
   "outputs": [],
   "source": [
    "l=[5,3,4,8,65]"
   ]
  },
  {
   "cell_type": "code",
   "execution_count": 14,
   "id": "a2cfce08-0ef7-4088-9d4b-acb404caea74",
   "metadata": {},
   "outputs": [
    {
     "name": "stdout",
     "output_type": "stream",
     "text": [
      "5\n",
      "3\n",
      "4\n",
      "8\n",
      "65\n"
     ]
    }
   ],
   "source": [
    "for i in l:\n",
    "    print(i)"
   ]
  },
  {
   "cell_type": "code",
   "execution_count": 21,
   "id": "369d3593-1aa0-4b7d-a2c8-590d921940be",
   "metadata": {},
   "outputs": [
    {
     "name": "stdout",
     "output_type": "stream",
     "text": [
      "[6, 4, 5, 9, 66]\n"
     ]
    }
   ],
   "source": [
    "l1=[]\n",
    "for i in l:\n",
    "    l1.append(i+1)\n",
    "print(l1)"
   ]
  },
  {
   "cell_type": "code",
   "execution_count": 29,
   "id": "b8a04de8-9471-4d55-8508-5401e4a4e425",
   "metadata": {},
   "outputs": [],
   "source": [
    "l=[\"anjali\",\"virus\",\"rsn\",\"vinay\"]"
   ]
  },
  {
   "cell_type": "code",
   "execution_count": 36,
   "id": "9293bb2d-3ff8-4141-91a5-69b8b67c2971",
   "metadata": {},
   "outputs": [
    {
     "name": "stdout",
     "output_type": "stream",
     "text": [
      "['ANJALI', 'VIRUS', 'RSN', 'VINAY']\n"
     ]
    }
   ],
   "source": [
    "l1=[]\n",
    "for i in l:\n",
    "    l1.append(i.upper())\n",
    "print(l1)\n"
   ]
  },
  {
   "cell_type": "code",
   "execution_count": 34,
   "id": "499323bf-6104-4d0b-9dbe-51b570efd019",
   "metadata": {},
   "outputs": [
    {
     "name": "stdout",
     "output_type": "stream",
     "text": [
      "ANJALI\n",
      "VIRUS\n",
      "RSN\n",
      "VINAY\n"
     ]
    }
   ],
   "source": [
    "for i in l:\n",
    "    #i.upper()\n",
    "    print(i.upper())\n"
   ]
  },
  {
   "cell_type": "code",
   "execution_count": 40,
   "id": "00b28cf6-c0d4-40c1-bff3-c2a8993ce6f7",
   "metadata": {},
   "outputs": [
    {
     "name": "stdout",
     "output_type": "stream",
     "text": [
      "[5, 6, 7, 2, 54, 52.2]\n",
      "['Anjali', 'Virus']\n"
     ]
    }
   ],
   "source": [
    "l=[5,6,7,2,\"Anjali\",54,\"Virus\",52.2]\n",
    "l1=[]\n",
    "l2=[]\n",
    "for i in l:\n",
    "    if type(i) == int or type(i) == float :\n",
    "        l1.append(i)\n",
    "    else:\n",
    "        l2.append(i)\n",
    "print(l1)\n",
    "print(l2)"
   ]
  },
  {
   "cell_type": "code",
   "execution_count": null,
   "id": "43e4fd02-534a-4b4b-8460-ea030018a9bc",
   "metadata": {},
   "outputs": [],
   "source": []
  }
 ],
 "metadata": {
  "kernelspec": {
   "display_name": "Python 3 (ipykernel)",
   "language": "python",
   "name": "python3"
  },
  "language_info": {
   "codemirror_mode": {
    "name": "ipython",
    "version": 3
   },
   "file_extension": ".py",
   "mimetype": "text/x-python",
   "name": "python",
   "nbconvert_exporter": "python",
   "pygments_lexer": "ipython3",
   "version": "3.10.8"
  }
 },
 "nbformat": 4,
 "nbformat_minor": 5
}
