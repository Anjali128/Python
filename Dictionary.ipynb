{
 "cells": [
  {
   "cell_type": "code",
   "execution_count": 14,
   "id": "48908fb4-d275-4d86-97cf-9834f6d75a85",
   "metadata": {},
   "outputs": [],
   "source": [
    "d={\"name\":\"Anjali\", \"age\":54 , \"@12\":54, \"@\":5, True:546}"
   ]
  },
  {
   "cell_type": "code",
   "execution_count": 15,
   "id": "f0a7db0a-6fd0-47c6-b844-c9ef0cca7fab",
   "metadata": {},
   "outputs": [
    {
     "data": {
      "text/plain": [
       "dict"
      ]
     },
     "execution_count": 15,
     "metadata": {},
     "output_type": "execute_result"
    }
   ],
   "source": [
    "type(d)"
   ]
  },
  {
   "cell_type": "code",
   "execution_count": 16,
   "id": "d5770491-0f5f-4066-9bb7-1032c32f19e5",
   "metadata": {},
   "outputs": [
    {
     "data": {
      "text/plain": [
       "{'name': 'Anjali', 'age': 54, '@12': 54, '@': 5, True: 546}"
      ]
     },
     "execution_count": 16,
     "metadata": {},
     "output_type": "execute_result"
    }
   ],
   "source": [
    "d"
   ]
  },
  {
   "cell_type": "code",
   "execution_count": 13,
   "id": "9974a38a-5226-4be4-a36c-1b389c8ba259",
   "metadata": {},
   "outputs": [
    {
     "data": {
      "text/plain": [
       "'Anjali'"
      ]
     },
     "execution_count": 13,
     "metadata": {},
     "output_type": "execute_result"
    }
   ],
   "source": [
    "d[\"name\"]"
   ]
  },
  {
   "cell_type": "code",
   "execution_count": 17,
   "id": "8ba51c74-0db7-4820-b3ff-234ca1b5b88a",
   "metadata": {},
   "outputs": [
    {
     "data": {
      "text/plain": [
       "546"
      ]
     },
     "execution_count": 17,
     "metadata": {},
     "output_type": "execute_result"
    }
   ],
   "source": [
    "d[True]"
   ]
  },
  {
   "cell_type": "code",
   "execution_count": 18,
   "id": "c7d20e13-68ac-4d78-b83d-d3d8a4454ee9",
   "metadata": {},
   "outputs": [
    {
     "data": {
      "text/plain": [
       "546"
      ]
     },
     "execution_count": 18,
     "metadata": {},
     "output_type": "execute_result"
    }
   ],
   "source": [
    "d[1]"
   ]
  },
  {
   "cell_type": "code",
   "execution_count": 19,
   "id": "70d8a505-7703-4321-a6e4-12d2dcf3b90d",
   "metadata": {},
   "outputs": [],
   "source": [
    "d={\"name\":\"Anjali\", \"age\":54 , \"Name\":\"Virus\"}"
   ]
  },
  {
   "cell_type": "code",
   "execution_count": 22,
   "id": "70110705-6f7b-4650-9ac6-4ed48a2e3b20",
   "metadata": {},
   "outputs": [
    {
     "data": {
      "text/plain": [
       "'Anjali'"
      ]
     },
     "execution_count": 22,
     "metadata": {},
     "output_type": "execute_result"
    }
   ],
   "source": [
    "d[\"name\"]"
   ]
  },
  {
   "cell_type": "code",
   "execution_count": 23,
   "id": "49be7569-6ac7-479a-ae6b-72bf7c8dd0b0",
   "metadata": {},
   "outputs": [],
   "source": [
    "d={\"name\":\"Anjali\", \"age\":54 , \"name\":\"Virus\"}"
   ]
  },
  {
   "cell_type": "code",
   "execution_count": 35,
   "id": "fb23e0ff-3ea5-4eba-91cb-16bf6241890d",
   "metadata": {},
   "outputs": [
    {
     "data": {
      "text/plain": [
       "'Virus'"
      ]
     },
     "execution_count": 35,
     "metadata": {},
     "output_type": "execute_result"
    }
   ],
   "source": [
    "d[\"name\"]    #has taken new value"
   ]
  },
  {
   "cell_type": "code",
   "execution_count": 38,
   "id": "6ea99fe7-6f86-4365-a3cf-0c080b346f0e",
   "metadata": {},
   "outputs": [],
   "source": [
    "d1={\"name\":\"Anjali\", \"course\":[\"DSA\",\"CS\",\"JAVA\",\"OOPS\",\"ACN\"]}"
   ]
  },
  {
   "cell_type": "code",
   "execution_count": 39,
   "id": "312306a4-171c-4c1a-987a-47a948c3b69a",
   "metadata": {},
   "outputs": [
    {
     "data": {
      "text/plain": [
       "'JAVA'"
      ]
     },
     "execution_count": 39,
     "metadata": {},
     "output_type": "execute_result"
    }
   ],
   "source": [
    "d1[\"course\"][2]"
   ]
  },
  {
   "cell_type": "code",
   "execution_count": 40,
   "id": "3837c3c1-7aec-444d-b75f-5563823f3851",
   "metadata": {},
   "outputs": [],
   "source": [
    "d1[\"course\"].sort()"
   ]
  },
  {
   "cell_type": "code",
   "execution_count": 41,
   "id": "f7190b6a-336e-4691-ab69-f10186986208",
   "metadata": {},
   "outputs": [
    {
     "data": {
      "text/plain": [
       "{'name': 'Anjali', 'course': ['ACN', 'CS', 'DSA', 'JAVA', 'OOPS']}"
      ]
     },
     "execution_count": 41,
     "metadata": {},
     "output_type": "execute_result"
    }
   ],
   "source": [
    "d1"
   ]
  },
  {
   "cell_type": "markdown",
   "id": "3a98992e-2adf-4411-a5b3-f3bf2ba5091f",
   "metadata": {},
   "source": [
    "We can have list,set,tuple , dictionary inside a dictionary"
   ]
  },
  {
   "cell_type": "code",
   "execution_count": 48,
   "id": "f211f48d-fa19-4d35-b8fc-1f30dedc871a",
   "metadata": {},
   "outputs": [],
   "source": [
    "d2={\"name\":\"Anjali\", \"course\":[\"DSA\",\"CS\",\"JAVA\",\"OOPS\",\"ACN\"], \"assign\":(5,6,8) , \"class_time\" : {\"math\":5, \"DSA\":8,\"DS\":6}}"
   ]
  },
  {
   "cell_type": "code",
   "execution_count": 49,
   "id": "d3adf93b-4df8-42b4-ac0c-cc15a29cfcaa",
   "metadata": {},
   "outputs": [
    {
     "data": {
      "text/plain": [
       "{'name': 'Anjali',\n",
       " 'course': ['DSA', 'CS', 'JAVA', 'OOPS', 'ACN'],\n",
       " 'assign': (5, 6, 8),\n",
       " 'class_time': {'math': 5, 'DSA': 8, 'DS': 6}}"
      ]
     },
     "execution_count": 49,
     "metadata": {},
     "output_type": "execute_result"
    }
   ],
   "source": [
    "d2"
   ]
  },
  {
   "cell_type": "markdown",
   "id": "75e5577d-39de-4c59-8300-69e21103b877",
   "metadata": {},
   "source": [
    "To get value from dictionary inside a dictionary"
   ]
  },
  {
   "cell_type": "code",
   "execution_count": 50,
   "id": "319e9a24-d073-487b-ba51-b3e8a9a94019",
   "metadata": {},
   "outputs": [
    {
     "data": {
      "text/plain": [
       "8"
      ]
     },
     "execution_count": 50,
     "metadata": {},
     "output_type": "execute_result"
    }
   ],
   "source": [
    "d2[\"class_time\"][\"DSA\"]"
   ]
  },
  {
   "cell_type": "markdown",
   "id": "487c404c-260a-45c4-87e5-4fa4639d3237",
   "metadata": {},
   "source": [
    "To add key in a dictionary     , If we add the existing value then it will update the value"
   ]
  },
  {
   "cell_type": "code",
   "execution_count": 53,
   "id": "038bcd10-4494-4668-b737-cfa9b5182e37",
   "metadata": {},
   "outputs": [],
   "source": [
    "d2[\"friends\"]=[\"Virus\",\"rsn\"]"
   ]
  },
  {
   "cell_type": "code",
   "execution_count": 54,
   "id": "245a6671-96e6-459d-a334-273f2aae41b5",
   "metadata": {},
   "outputs": [
    {
     "data": {
      "text/plain": [
       "{'name': 'Anjali',\n",
       " 'course': ['DSA', 'CS', 'JAVA', 'OOPS', 'ACN'],\n",
       " 'assign': (5, 6, 8),\n",
       " 'class_time': {'math': 5, 'DSA': 8, 'DS': 6},\n",
       " 'friends': ['Virus', 'rsn']}"
      ]
     },
     "execution_count": 54,
     "metadata": {},
     "output_type": "execute_result"
    }
   ],
   "source": [
    "d2"
   ]
  },
  {
   "cell_type": "markdown",
   "id": "25e56a86-6e4b-456a-abc5-3372d04fb878",
   "metadata": {},
   "source": [
    "Deleting the key from dictionary"
   ]
  },
  {
   "cell_type": "code",
   "execution_count": 55,
   "id": "851609bc-e1c3-4878-a2f9-38b1b8af4817",
   "metadata": {},
   "outputs": [],
   "source": [
    "del d2[\"course\"]"
   ]
  },
  {
   "cell_type": "code",
   "execution_count": 56,
   "id": "bf8a7007-cc33-4ffd-9908-8cc3f523d059",
   "metadata": {},
   "outputs": [
    {
     "data": {
      "text/plain": [
       "{'name': 'Anjali',\n",
       " 'assign': (5, 6, 8),\n",
       " 'class_time': {'math': 5, 'DSA': 8, 'DS': 6},\n",
       " 'friends': ['Virus', 'rsn']}"
      ]
     },
     "execution_count": 56,
     "metadata": {},
     "output_type": "execute_result"
    }
   ],
   "source": [
    "d2"
   ]
  },
  {
   "cell_type": "code",
   "execution_count": 59,
   "id": "fd9621ec-4c9d-4948-b250-59a9cff8735e",
   "metadata": {},
   "outputs": [
    {
     "data": {
      "text/plain": [
       "dict_keys(['name', 'assign', 'class_time', 'friends'])"
      ]
     },
     "execution_count": 59,
     "metadata": {},
     "output_type": "execute_result"
    }
   ],
   "source": [
    "d2.keys()"
   ]
  },
  {
   "cell_type": "markdown",
   "id": "ff5577fa-6fba-44fe-a15b-c6c1fb0ec2e8",
   "metadata": {},
   "source": [
    "Converting keys into list"
   ]
  },
  {
   "cell_type": "code",
   "execution_count": 60,
   "id": "42d3a243-a30f-4233-9464-8fb5e4b29ca6",
   "metadata": {},
   "outputs": [
    {
     "data": {
      "text/plain": [
       "['name', 'assign', 'class_time', 'friends']"
      ]
     },
     "execution_count": 60,
     "metadata": {},
     "output_type": "execute_result"
    }
   ],
   "source": [
    "list(d2.keys())"
   ]
  },
  {
   "cell_type": "code",
   "execution_count": 61,
   "id": "fd3c5272-e3ec-41bd-bde7-4c7f97970c14",
   "metadata": {},
   "outputs": [
    {
     "data": {
      "text/plain": [
       "dict_values(['Anjali', (5, 6, 8), {'math': 5, 'DSA': 8, 'DS': 6}, ['Virus', 'rsn']])"
      ]
     },
     "execution_count": 61,
     "metadata": {},
     "output_type": "execute_result"
    }
   ],
   "source": [
    "d2.values()"
   ]
  },
  {
   "cell_type": "code",
   "execution_count": 62,
   "id": "5d875965-6ac1-4207-b9c7-39bdf8de8615",
   "metadata": {},
   "outputs": [
    {
     "data": {
      "text/plain": [
       "['Anjali', (5, 6, 8), {'math': 5, 'DSA': 8, 'DS': 6}, ['Virus', 'rsn']]"
      ]
     },
     "execution_count": 62,
     "metadata": {},
     "output_type": "execute_result"
    }
   ],
   "source": [
    "list(d2.values())"
   ]
  },
  {
   "cell_type": "code",
   "execution_count": 63,
   "id": "ab98d2e2-6911-46fd-ba44-a801e60a99b6",
   "metadata": {},
   "outputs": [
    {
     "data": {
      "text/plain": [
       "dict_items([('name', 'Anjali'), ('assign', (5, 6, 8)), ('class_time', {'math': 5, 'DSA': 8, 'DS': 6}), ('friends', ['Virus', 'rsn'])])"
      ]
     },
     "execution_count": 63,
     "metadata": {},
     "output_type": "execute_result"
    }
   ],
   "source": [
    "d2.items()"
   ]
  },
  {
   "cell_type": "code",
   "execution_count": 65,
   "id": "d127ec4a-b5db-4396-8a09-3bcdcaa3dc2e",
   "metadata": {},
   "outputs": [
    {
     "data": {
      "text/plain": [
       "[('name', 'Anjali'),\n",
       " ('assign', (5, 6, 8)),\n",
       " ('class_time', {'math': 5, 'DSA': 8, 'DS': 6}),\n",
       " ('friends', ['Virus', 'rsn'])]"
      ]
     },
     "execution_count": 65,
     "metadata": {},
     "output_type": "execute_result"
    }
   ],
   "source": [
    "list(d2.items())"
   ]
  },
  {
   "cell_type": "code",
   "execution_count": 66,
   "id": "7ac8f1b0-2c39-449d-9880-593ed64223e3",
   "metadata": {},
   "outputs": [
    {
     "ename": "TypeError",
     "evalue": "pop expected at least 1 argument, got 0",
     "output_type": "error",
     "traceback": [
      "\u001b[0;31m---------------------------------------------------------------------------\u001b[0m",
      "\u001b[0;31mTypeError\u001b[0m                                 Traceback (most recent call last)",
      "Cell \u001b[0;32mIn[66], line 1\u001b[0m\n\u001b[0;32m----> 1\u001b[0m \u001b[43md2\u001b[49m\u001b[38;5;241;43m.\u001b[39;49m\u001b[43mpop\u001b[49m\u001b[43m(\u001b[49m\u001b[43m)\u001b[49m\n",
      "\u001b[0;31mTypeError\u001b[0m: pop expected at least 1 argument, got 0"
     ]
    }
   ],
   "source": [
    "d2.pop()"
   ]
  },
  {
   "cell_type": "code",
   "execution_count": 68,
   "id": "1e9e6231-72b0-45c0-a9e6-e29faf69c611",
   "metadata": {},
   "outputs": [
    {
     "data": {
      "text/plain": [
       "{'math': 5, 'DSA': 8, 'DS': 6}"
      ]
     },
     "execution_count": 68,
     "metadata": {},
     "output_type": "execute_result"
    }
   ],
   "source": [
    "d2.pop(\"class_time\")"
   ]
  },
  {
   "cell_type": "code",
   "execution_count": 69,
   "id": "60afe272-8223-47a3-99a4-ca5abc1d611e",
   "metadata": {},
   "outputs": [
    {
     "data": {
      "text/plain": [
       "{'name': 'Anjali', 'assign': (5, 6, 8), 'friends': ['Virus', 'rsn']}"
      ]
     },
     "execution_count": 69,
     "metadata": {},
     "output_type": "execute_result"
    }
   ],
   "source": [
    "d2"
   ]
  },
  {
   "cell_type": "code",
   "execution_count": null,
   "id": "11f8d70e-a3ba-4480-8634-73e9807387b8",
   "metadata": {},
   "outputs": [],
   "source": []
  }
 ],
 "metadata": {
  "kernelspec": {
   "display_name": "Python 3 (ipykernel)",
   "language": "python",
   "name": "python3"
  },
  "language_info": {
   "codemirror_mode": {
    "name": "ipython",
    "version": 3
   },
   "file_extension": ".py",
   "mimetype": "text/x-python",
   "name": "python",
   "nbconvert_exporter": "python",
   "pygments_lexer": "ipython3",
   "version": "3.10.8"
  }
 },
 "nbformat": 4,
 "nbformat_minor": 5
}
