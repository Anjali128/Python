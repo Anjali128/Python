{
 "cells": [
  {
   "cell_type": "code",
   "execution_count": 1,
   "id": "10b6aafe-9b13-4dbf-ad28-fca5d47ade54",
   "metadata": {},
   "outputs": [],
   "source": [
    "l = [54,64,24,\"Anjali\",\"Kumari\",26.4,5+8j,5]"
   ]
  },
  {
   "cell_type": "code",
   "execution_count": 2,
   "id": "0e96fb93-948e-486f-b8ae-2ef94f68f273",
   "metadata": {},
   "outputs": [
    {
     "data": {
      "text/plain": [
       "list"
      ]
     },
     "execution_count": 2,
     "metadata": {},
     "output_type": "execute_result"
    }
   ],
   "source": [
    "type(l)"
   ]
  },
  {
   "cell_type": "code",
   "execution_count": 3,
   "id": "471d5481-d445-4d86-840b-d7b9300dc911",
   "metadata": {},
   "outputs": [
    {
     "data": {
      "text/plain": [
       "54"
      ]
     },
     "execution_count": 3,
     "metadata": {},
     "output_type": "execute_result"
    }
   ],
   "source": [
    "l[0]"
   ]
  },
  {
   "cell_type": "code",
   "execution_count": 4,
   "id": "057dc7d8-6596-4339-8ad9-b683d6b620b2",
   "metadata": {},
   "outputs": [
    {
     "ename": "IndexError",
     "evalue": "list index out of range",
     "output_type": "error",
     "traceback": [
      "\u001b[0;31m---------------------------------------------------------------------------\u001b[0m",
      "\u001b[0;31mIndexError\u001b[0m                                Traceback (most recent call last)",
      "Cell \u001b[0;32mIn[4], line 1\u001b[0m\n\u001b[0;32m----> 1\u001b[0m \u001b[43ml\u001b[49m\u001b[43m[\u001b[49m\u001b[38;5;241;43m65\u001b[39;49m\u001b[43m]\u001b[49m\n",
      "\u001b[0;31mIndexError\u001b[0m: list index out of range"
     ]
    }
   ],
   "source": [
    "l[65]"
   ]
  },
  {
   "cell_type": "code",
   "execution_count": null,
   "id": "20941eee-0bc2-4f70-b843-9c9c1de0c8e5",
   "metadata": {},
   "outputs": [],
   "source": [
    "l[0:5]"
   ]
  },
  {
   "cell_type": "code",
   "execution_count": 5,
   "id": "0c3b01df-9143-4980-9908-1f00fae193b2",
   "metadata": {},
   "outputs": [
    {
     "data": {
      "text/plain": [
       "5"
      ]
     },
     "execution_count": 5,
     "metadata": {},
     "output_type": "execute_result"
    }
   ],
   "source": [
    "l[-1]"
   ]
  },
  {
   "cell_type": "code",
   "execution_count": 6,
   "id": "1c40a265-defb-410e-9538-f0ea5a2673ad",
   "metadata": {},
   "outputs": [
    {
     "data": {
      "text/plain": [
       "[5, (5+8j), 26.4, 'Kumari', 'Anjali', 24, 64, 54]"
      ]
     },
     "execution_count": 6,
     "metadata": {},
     "output_type": "execute_result"
    }
   ],
   "source": [
    "l[::-1]"
   ]
  },
  {
   "cell_type": "code",
   "execution_count": 7,
   "id": "38dc32b9-3709-40da-b5bc-1819ccf3e104",
   "metadata": {},
   "outputs": [
    {
     "data": {
      "text/plain": [
       "[54, 24, 'Kumari', (5+8j)]"
      ]
     },
     "execution_count": 7,
     "metadata": {},
     "output_type": "execute_result"
    }
   ],
   "source": [
    "l[::2]"
   ]
  },
  {
   "cell_type": "code",
   "execution_count": 8,
   "id": "d5aaa813-b701-42cb-94c0-4f6aecc0d244",
   "metadata": {},
   "outputs": [
    {
     "data": {
      "text/plain": [
       "[5, 26.4, 'Anjali', 64]"
      ]
     },
     "execution_count": 8,
     "metadata": {},
     "output_type": "execute_result"
    }
   ],
   "source": [
    "l[8:0:-2]"
   ]
  },
  {
   "cell_type": "code",
   "execution_count": 9,
   "id": "3321f8eb-5c46-4083-a6fa-de054588e32b",
   "metadata": {},
   "outputs": [],
   "source": [
    "l.append(\"Female\")"
   ]
  },
  {
   "cell_type": "code",
   "execution_count": 10,
   "id": "11ed8c61-06e1-4f16-a0d2-fe5485d1da15",
   "metadata": {},
   "outputs": [
    {
     "data": {
      "text/plain": [
       "'An'"
      ]
     },
     "execution_count": 10,
     "metadata": {},
     "output_type": "execute_result"
    }
   ],
   "source": [
    "l[3][0:2]"
   ]
  },
  {
   "cell_type": "code",
   "execution_count": 11,
   "id": "1c6ea229-ed64-433b-af3d-456f981a1f23",
   "metadata": {},
   "outputs": [
    {
     "data": {
      "text/plain": [
       "[54, 64, 24, 'Anjali', 'Kumari', 26.4, (5+8j), 5, 'Female']"
      ]
     },
     "execution_count": 11,
     "metadata": {},
     "output_type": "execute_result"
    }
   ],
   "source": [
    "l"
   ]
  },
  {
   "cell_type": "code",
   "execution_count": 12,
   "id": "b0cd97dd-dd29-4e13-91b8-f3f1dcca3540",
   "metadata": {},
   "outputs": [],
   "source": [
    "l.append(True)"
   ]
  },
  {
   "cell_type": "code",
   "execution_count": 13,
   "id": "588a47e7-5e26-4376-8227-fd2d3a4f0408",
   "metadata": {},
   "outputs": [
    {
     "data": {
      "text/plain": [
       "[54, 64, 24, 'Anjali', 'Kumari', 26.4, (5+8j), 5, 'Female', True]"
      ]
     },
     "execution_count": 13,
     "metadata": {},
     "output_type": "execute_result"
    }
   ],
   "source": [
    "l"
   ]
  },
  {
   "cell_type": "code",
   "execution_count": 14,
   "id": "373ffe21-55c1-4eb8-9f00-21113852a7cd",
   "metadata": {},
   "outputs": [
    {
     "ename": "TypeError",
     "evalue": "'bool' object is not subscriptable",
     "output_type": "error",
     "traceback": [
      "\u001b[0;31m---------------------------------------------------------------------------\u001b[0m",
      "\u001b[0;31mTypeError\u001b[0m                                 Traceback (most recent call last)",
      "Cell \u001b[0;32mIn[14], line 1\u001b[0m\n\u001b[0;32m----> 1\u001b[0m \u001b[43ml\u001b[49m\u001b[43m[\u001b[49m\u001b[38;5;241;43m9\u001b[39;49m\u001b[43m]\u001b[49m\u001b[43m[\u001b[49m\u001b[38;5;241;43m0\u001b[39;49m\u001b[43m:\u001b[49m\u001b[38;5;241;43m2\u001b[39;49m\u001b[43m]\u001b[49m\n",
      "\u001b[0;31mTypeError\u001b[0m: 'bool' object is not subscriptable"
     ]
    }
   ],
   "source": [
    "l[9][0:2]"
   ]
  },
  {
   "cell_type": "code",
   "execution_count": 15,
   "id": "afc32283-11fe-49a7-bf50-1cc7225b4ae8",
   "metadata": {},
   "outputs": [
    {
     "data": {
      "text/plain": [
       "'Tr'"
      ]
     },
     "execution_count": 15,
     "metadata": {},
     "output_type": "execute_result"
    }
   ],
   "source": [
    "\n",
    "\n",
    "\n",
    "str(l[9])[0:2]"
   ]
  },
  {
   "cell_type": "code",
   "execution_count": 16,
   "id": "dc31504a-e3f3-4b80-96d6-218bf8454cfa",
   "metadata": {},
   "outputs": [
    {
     "ename": "TypeError",
     "evalue": "can only concatenate list (not \"int\") to list",
     "output_type": "error",
     "traceback": [
      "\u001b[0;31m---------------------------------------------------------------------------\u001b[0m",
      "\u001b[0;31mTypeError\u001b[0m                                 Traceback (most recent call last)",
      "Cell \u001b[0;32mIn[16], line 1\u001b[0m\n\u001b[0;32m----> 1\u001b[0m \u001b[43ml\u001b[49m\u001b[38;5;241;43m+\u001b[39;49m\u001b[38;5;241;43m5\u001b[39;49m\n",
      "\u001b[0;31mTypeError\u001b[0m: can only concatenate list (not \"int\") to list"
     ]
    }
   ],
   "source": [
    "l+5"
   ]
  },
  {
   "cell_type": "code",
   "execution_count": 17,
   "id": "5a875c53-9e6d-4cda-9e0c-e477ce5161de",
   "metadata": {},
   "outputs": [],
   "source": [
    "l2=[\"vikash\", 25]"
   ]
  },
  {
   "cell_type": "code",
   "execution_count": 18,
   "id": "cd149e21-2128-4e5f-88ba-96293bfcc886",
   "metadata": {},
   "outputs": [],
   "source": [
    "l1=l+l2"
   ]
  },
  {
   "cell_type": "code",
   "execution_count": 19,
   "id": "31f909ae-0d18-4dd2-b03e-12b0120e08f9",
   "metadata": {},
   "outputs": [
    {
     "data": {
      "text/plain": [
       "[54, 64, 24, 'Anjali', 'Kumari', 26.4, (5+8j), 5, 'Female', True, 'vikash', 25]"
      ]
     },
     "execution_count": 19,
     "metadata": {},
     "output_type": "execute_result"
    }
   ],
   "source": [
    "l1"
   ]
  },
  {
   "cell_type": "code",
   "execution_count": 20,
   "id": "b95d409a-6de4-4aee-8e8c-01e56bed28b8",
   "metadata": {},
   "outputs": [
    {
     "data": {
      "text/plain": [
       "['vikash', 25, 'vikash', 25, 'vikash', 25]"
      ]
     },
     "execution_count": 20,
     "metadata": {},
     "output_type": "execute_result"
    }
   ],
   "source": [
    "l2*3"
   ]
  },
  {
   "cell_type": "code",
   "execution_count": 21,
   "id": "42a70eea-983b-4be2-95ab-1f6d31015436",
   "metadata": {},
   "outputs": [
    {
     "data": {
      "text/plain": [
       "10"
      ]
     },
     "execution_count": 21,
     "metadata": {},
     "output_type": "execute_result"
    }
   ],
   "source": [
    "len(l)"
   ]
  },
  {
   "cell_type": "code",
   "execution_count": 22,
   "id": "3d5ccc41-bee0-46ad-bb3e-5a2958e02018",
   "metadata": {},
   "outputs": [],
   "source": [
    "s=\"pwskills\""
   ]
  },
  {
   "cell_type": "code",
   "execution_count": 23,
   "id": "d27496f7-0801-44a2-a156-d9034b1c7094",
   "metadata": {},
   "outputs": [],
   "source": [
    "l.append(s)"
   ]
  },
  {
   "cell_type": "code",
   "execution_count": 24,
   "id": "6ba64c57-1ceb-4653-9de0-e22152a17d66",
   "metadata": {},
   "outputs": [
    {
     "data": {
      "text/plain": [
       "[54, 64, 24, 'Anjali', 'Kumari', 26.4, (5+8j), 5, 'Female', True, 'pwskills']"
      ]
     },
     "execution_count": 24,
     "metadata": {},
     "output_type": "execute_result"
    }
   ],
   "source": [
    "l"
   ]
  },
  {
   "cell_type": "code",
   "execution_count": 25,
   "id": "4f9dce43-2acd-4abb-bd27-5dcd6caa672e",
   "metadata": {},
   "outputs": [],
   "source": [
    "l.append(l2)"
   ]
  },
  {
   "cell_type": "code",
   "execution_count": 26,
   "id": "a761cb66-5451-42d8-8deb-32b6cd2fde6f",
   "metadata": {},
   "outputs": [
    {
     "data": {
      "text/plain": [
       "[54,\n",
       " 64,\n",
       " 24,\n",
       " 'Anjali',\n",
       " 'Kumari',\n",
       " 26.4,\n",
       " (5+8j),\n",
       " 5,\n",
       " 'Female',\n",
       " True,\n",
       " 'pwskills',\n",
       " ['vikash', 25]]"
      ]
     },
     "execution_count": 26,
     "metadata": {},
     "output_type": "execute_result"
    }
   ],
   "source": [
    "l"
   ]
  },
  {
   "cell_type": "code",
   "execution_count": 27,
   "id": "3d2d0e6e-7ddd-484d-a699-c5735605656a",
   "metadata": {},
   "outputs": [
    {
     "data": {
      "text/plain": [
       "'Kumari'"
      ]
     },
     "execution_count": 27,
     "metadata": {},
     "output_type": "execute_result"
    }
   ],
   "source": [
    "l.pop(4)"
   ]
  },
  {
   "cell_type": "code",
   "execution_count": 28,
   "id": "18f7830c-087a-43d8-b39f-4eb19eebd5d4",
   "metadata": {},
   "outputs": [
    {
     "data": {
      "text/plain": [
       "[54,\n",
       " 64,\n",
       " 24,\n",
       " 'Anjali',\n",
       " 26.4,\n",
       " (5+8j),\n",
       " 5,\n",
       " 'Female',\n",
       " True,\n",
       " 'pwskills',\n",
       " ['vikash', 25]]"
      ]
     },
     "execution_count": 28,
     "metadata": {},
     "output_type": "execute_result"
    }
   ],
   "source": [
    "l"
   ]
  },
  {
   "cell_type": "code",
   "execution_count": 29,
   "id": "d4f0f7ed-b21a-4954-a93a-007e349a0b2b",
   "metadata": {},
   "outputs": [],
   "source": [
    "l.append(l)"
   ]
  },
  {
   "cell_type": "code",
   "execution_count": 30,
   "id": "4b07183e-020e-476b-815b-66d33304f5a3",
   "metadata": {},
   "outputs": [
    {
     "data": {
      "text/plain": [
       "[54,\n",
       " 64,\n",
       " 24,\n",
       " 'Anjali',\n",
       " 26.4,\n",
       " (5+8j),\n",
       " 5,\n",
       " 'Female',\n",
       " True,\n",
       " 'pwskills',\n",
       " ['vikash', 25],\n",
       " [...]]"
      ]
     },
     "execution_count": 30,
     "metadata": {},
     "output_type": "execute_result"
    }
   ],
   "source": [
    "l"
   ]
  },
  {
   "cell_type": "code",
   "execution_count": 31,
   "id": "39ab7cb0-3cf3-4fef-9623-12db17b33cb9",
   "metadata": {},
   "outputs": [],
   "source": [
    "l.remove(l)"
   ]
  },
  {
   "cell_type": "code",
   "execution_count": 32,
   "id": "89e3a7a1-3a4c-4089-8be7-62211d5ccc7a",
   "metadata": {},
   "outputs": [
    {
     "data": {
      "text/plain": [
       "[54,\n",
       " 64,\n",
       " 24,\n",
       " 'Anjali',\n",
       " 26.4,\n",
       " (5+8j),\n",
       " 5,\n",
       " 'Female',\n",
       " True,\n",
       " 'pwskills',\n",
       " ['vikash', 25]]"
      ]
     },
     "execution_count": 32,
     "metadata": {},
     "output_type": "execute_result"
    }
   ],
   "source": [
    "l"
   ]
  },
  {
   "cell_type": "code",
   "execution_count": 33,
   "id": "003dbd77-b69c-4404-b5a6-6f36d08bace3",
   "metadata": {},
   "outputs": [
    {
     "ename": "ValueError",
     "evalue": "list.remove(x): x not in list",
     "output_type": "error",
     "traceback": [
      "\u001b[0;31m---------------------------------------------------------------------------\u001b[0m",
      "\u001b[0;31mValueError\u001b[0m                                Traceback (most recent call last)",
      "Cell \u001b[0;32mIn[33], line 1\u001b[0m\n\u001b[0;32m----> 1\u001b[0m \u001b[43ml\u001b[49m\u001b[38;5;241;43m.\u001b[39;49m\u001b[43mremove\u001b[49m\u001b[43m(\u001b[49m\u001b[38;5;241;43m2\u001b[39;49m\u001b[43m)\u001b[49m\n",
      "\u001b[0;31mValueError\u001b[0m: list.remove(x): x not in list"
     ]
    }
   ],
   "source": [
    "l.remove(2)"
   ]
  },
  {
   "cell_type": "code",
   "execution_count": 34,
   "id": "5e34c57a-caab-4c56-971a-bdb0145ebac1",
   "metadata": {},
   "outputs": [
    {
     "data": {
      "text/plain": [
       "'p'"
      ]
     },
     "execution_count": 34,
     "metadata": {},
     "output_type": "execute_result"
    }
   ],
   "source": [
    "l[9][0]"
   ]
  },
  {
   "cell_type": "code",
   "execution_count": 35,
   "id": "6774f154-0815-4d2f-a0e1-6db2103a2888",
   "metadata": {},
   "outputs": [
    {
     "data": {
      "text/plain": [
       "[54,\n",
       " 64,\n",
       " 24,\n",
       " 'Anjali',\n",
       " 26.4,\n",
       " (5+8j),\n",
       " 5,\n",
       " 'Female',\n",
       " True,\n",
       " 'pwskills',\n",
       " ['vikash', 25]]"
      ]
     },
     "execution_count": 35,
     "metadata": {},
     "output_type": "execute_result"
    }
   ],
   "source": [
    "l"
   ]
  },
  {
   "cell_type": "code",
   "execution_count": 36,
   "id": "51617e74-e9d9-444d-817d-78cae0e88f57",
   "metadata": {},
   "outputs": [],
   "source": [
    "l.insert(5,\"Kumari\")"
   ]
  },
  {
   "cell_type": "code",
   "execution_count": 37,
   "id": "177801c7-b8a8-4530-8f00-2525eaea4757",
   "metadata": {},
   "outputs": [
    {
     "data": {
      "text/plain": [
       "[54,\n",
       " 64,\n",
       " 24,\n",
       " 'Anjali',\n",
       " 26.4,\n",
       " 'Kumari',\n",
       " (5+8j),\n",
       " 5,\n",
       " 'Female',\n",
       " True,\n",
       " 'pwskills',\n",
       " ['vikash', 25]]"
      ]
     },
     "execution_count": 37,
     "metadata": {},
     "output_type": "execute_result"
    }
   ],
   "source": [
    "l"
   ]
  },
  {
   "cell_type": "code",
   "execution_count": 38,
   "id": "43f58e0a-769e-473d-a343-e0cd33bdeaea",
   "metadata": {},
   "outputs": [],
   "source": [
    "l.insert(-1,1)"
   ]
  },
  {
   "cell_type": "code",
   "execution_count": 39,
   "id": "105b4f7d-08d5-4f70-91a8-3324809c51aa",
   "metadata": {},
   "outputs": [
    {
     "data": {
      "text/plain": [
       "[54,\n",
       " 64,\n",
       " 24,\n",
       " 'Anjali',\n",
       " 26.4,\n",
       " 'Kumari',\n",
       " (5+8j),\n",
       " 5,\n",
       " 'Female',\n",
       " True,\n",
       " 'pwskills',\n",
       " 1,\n",
       " ['vikash', 25]]"
      ]
     },
     "execution_count": 39,
     "metadata": {},
     "output_type": "execute_result"
    }
   ],
   "source": [
    "l"
   ]
  },
  {
   "cell_type": "code",
   "execution_count": 40,
   "id": "0a405d56-b565-45c0-9238-ad893fd30de9",
   "metadata": {},
   "outputs": [],
   "source": [
    "l.remove(24)"
   ]
  },
  {
   "cell_type": "code",
   "execution_count": 41,
   "id": "bc5c014b-a22e-4bed-8087-79e3c5742ca6",
   "metadata": {},
   "outputs": [
    {
     "ename": "ValueError",
     "evalue": "list.remove(x): x not in list",
     "output_type": "error",
     "traceback": [
      "\u001b[0;31m---------------------------------------------------------------------------\u001b[0m",
      "\u001b[0;31mValueError\u001b[0m                                Traceback (most recent call last)",
      "Cell \u001b[0;32mIn[41], line 1\u001b[0m\n\u001b[0;32m----> 1\u001b[0m \u001b[43ml\u001b[49m\u001b[38;5;241;43m.\u001b[39;49m\u001b[43mremove\u001b[49m\u001b[43m(\u001b[49m\u001b[38;5;241;43m98\u001b[39;49m\u001b[43m)\u001b[49m\n",
      "\u001b[0;31mValueError\u001b[0m: list.remove(x): x not in list"
     ]
    }
   ],
   "source": [
    "l.remove(98)"
   ]
  },
  {
   "cell_type": "code",
   "execution_count": 42,
   "id": "59b4a223-e964-47e7-b447-e80be43df5ad",
   "metadata": {},
   "outputs": [
    {
     "data": {
      "text/plain": [
       "[54,\n",
       " 64,\n",
       " 'Anjali',\n",
       " 26.4,\n",
       " 'Kumari',\n",
       " (5+8j),\n",
       " 5,\n",
       " 'Female',\n",
       " True,\n",
       " 'pwskills',\n",
       " 1,\n",
       " ['vikash', 25]]"
      ]
     },
     "execution_count": 42,
     "metadata": {},
     "output_type": "execute_result"
    }
   ],
   "source": [
    "l"
   ]
  },
  {
   "cell_type": "code",
   "execution_count": 43,
   "id": "5266e39a-b0de-4c31-b242-c30d6bb49545",
   "metadata": {},
   "outputs": [],
   "source": [
    "l.append(5)"
   ]
  },
  {
   "cell_type": "code",
   "execution_count": 44,
   "id": "78dbf672-f362-44b5-9876-f6d9b20b0eb2",
   "metadata": {},
   "outputs": [],
   "source": [
    "l.remove(5)"
   ]
  },
  {
   "cell_type": "code",
   "execution_count": 45,
   "id": "309e42c8-7759-4701-887b-d2642c8f4fa1",
   "metadata": {},
   "outputs": [
    {
     "data": {
      "text/plain": [
       "[54,\n",
       " 64,\n",
       " 'Anjali',\n",
       " 26.4,\n",
       " 'Kumari',\n",
       " (5+8j),\n",
       " 'Female',\n",
       " True,\n",
       " 'pwskills',\n",
       " 1,\n",
       " ['vikash', 25],\n",
       " 5]"
      ]
     },
     "execution_count": 45,
     "metadata": {},
     "output_type": "execute_result"
    }
   ],
   "source": [
    "l"
   ]
  },
  {
   "cell_type": "code",
   "execution_count": 46,
   "id": "40ae57b4-d411-4d5c-a292-83ee8ed60bf6",
   "metadata": {},
   "outputs": [],
   "source": [
    "l.reverse()"
   ]
  },
  {
   "cell_type": "code",
   "execution_count": 47,
   "id": "ef386f0a-ee7d-467a-8200-586613c85c7a",
   "metadata": {},
   "outputs": [
    {
     "data": {
      "text/plain": [
       "[5,\n",
       " ['vikash', 25],\n",
       " 1,\n",
       " 'pwskills',\n",
       " True,\n",
       " 'Female',\n",
       " (5+8j),\n",
       " 'Kumari',\n",
       " 26.4,\n",
       " 'Anjali',\n",
       " 64,\n",
       " 54]"
      ]
     },
     "execution_count": 47,
     "metadata": {},
     "output_type": "execute_result"
    }
   ],
   "source": [
    "l"
   ]
  },
  {
   "cell_type": "code",
   "execution_count": 48,
   "id": "07cad6fd-bcc4-4ce9-aef7-9c889344c160",
   "metadata": {},
   "outputs": [
    {
     "ename": "TypeError",
     "evalue": "'<' not supported between instances of 'list' and 'int'",
     "output_type": "error",
     "traceback": [
      "\u001b[0;31m---------------------------------------------------------------------------\u001b[0m",
      "\u001b[0;31mTypeError\u001b[0m                                 Traceback (most recent call last)",
      "Cell \u001b[0;32mIn[48], line 1\u001b[0m\n\u001b[0;32m----> 1\u001b[0m \u001b[43ml\u001b[49m\u001b[38;5;241;43m.\u001b[39;49m\u001b[43msort\u001b[49m\u001b[43m(\u001b[49m\u001b[43m)\u001b[49m\n",
      "\u001b[0;31mTypeError\u001b[0m: '<' not supported between instances of 'list' and 'int'"
     ]
    }
   ],
   "source": [
    "l.sort()"
   ]
  },
  {
   "cell_type": "code",
   "execution_count": 49,
   "id": "bbe78f68-a847-4955-a842-b06578898ece",
   "metadata": {},
   "outputs": [],
   "source": [
    "a = [\"Anjali\",\"Virus\",\"Vinay\",\"Kachra\",\"Vardhaman\",\"Golu\"]"
   ]
  },
  {
   "cell_type": "code",
   "execution_count": 50,
   "id": "2b3283a9-7b4d-4447-971f-a61274fb7af5",
   "metadata": {},
   "outputs": [],
   "source": [
    "a.sort()"
   ]
  },
  {
   "cell_type": "code",
   "execution_count": 51,
   "id": "a595b776-1931-46ea-8ed7-545744d816bc",
   "metadata": {},
   "outputs": [
    {
     "data": {
      "text/plain": [
       "['Anjali', 'Golu', 'Kachra', 'Vardhaman', 'Vinay', 'Virus']"
      ]
     },
     "execution_count": 51,
     "metadata": {},
     "output_type": "execute_result"
    }
   ],
   "source": [
    "a"
   ]
  },
  {
   "cell_type": "code",
   "execution_count": 52,
   "id": "a4f3c6b8-9781-4b64-93dc-905df9ddea07",
   "metadata": {},
   "outputs": [],
   "source": [
    "a.sort(reverse=True)"
   ]
  },
  {
   "cell_type": "code",
   "execution_count": 53,
   "id": "245400c7-65d2-4ac1-90b2-575f241d6e4d",
   "metadata": {},
   "outputs": [
    {
     "data": {
      "text/plain": [
       "['Virus', 'Vinay', 'Vardhaman', 'Kachra', 'Golu', 'Anjali']"
      ]
     },
     "execution_count": 53,
     "metadata": {},
     "output_type": "execute_result"
    }
   ],
   "source": [
    "a"
   ]
  },
  {
   "cell_type": "code",
   "execution_count": 54,
   "id": "5c1fb99e-f694-4545-bdd7-d1ca240ea137",
   "metadata": {},
   "outputs": [
    {
     "data": {
      "text/plain": [
       "5"
      ]
     },
     "execution_count": 54,
     "metadata": {},
     "output_type": "execute_result"
    }
   ],
   "source": [
    "a.index(\"Anjali\")"
   ]
  },
  {
   "cell_type": "code",
   "execution_count": 55,
   "id": "50bf6e4d-33b3-4f7f-8d4f-3a561a6ca3d7",
   "metadata": {},
   "outputs": [
    {
     "data": {
      "text/plain": [
       "1"
      ]
     },
     "execution_count": 55,
     "metadata": {},
     "output_type": "execute_result"
    }
   ],
   "source": [
    "a.count(\"Virus\")"
   ]
  },
  {
   "cell_type": "code",
   "execution_count": 56,
   "id": "f99cd1a0-d4a6-4fba-802e-7ff94c89d98f",
   "metadata": {},
   "outputs": [
    {
     "data": {
      "text/plain": [
       "0"
      ]
     },
     "execution_count": 56,
     "metadata": {},
     "output_type": "execute_result"
    }
   ],
   "source": [
    "a.count(\"Varun\")"
   ]
  },
  {
   "cell_type": "code",
   "execution_count": 57,
   "id": "4b7c1943-8943-44a2-b672-04e573f0674f",
   "metadata": {},
   "outputs": [],
   "source": [
    "b=\"Anjali\""
   ]
  },
  {
   "cell_type": "code",
   "execution_count": 58,
   "id": "d8b88e98-b421-4565-bc70-96e413aa37b1",
   "metadata": {},
   "outputs": [
    {
     "ename": "TypeError",
     "evalue": "'str' object does not support item assignment",
     "output_type": "error",
     "traceback": [
      "\u001b[0;31m---------------------------------------------------------------------------\u001b[0m",
      "\u001b[0;31mTypeError\u001b[0m                                 Traceback (most recent call last)",
      "Cell \u001b[0;32mIn[58], line 1\u001b[0m\n\u001b[0;32m----> 1\u001b[0m \u001b[43mb\u001b[49m\u001b[43m[\u001b[49m\u001b[38;5;241;43m0\u001b[39;49m\u001b[43m]\u001b[49m\u001b[38;5;241m=\u001b[39m\u001b[38;5;124m\"\u001b[39m\u001b[38;5;124mv\u001b[39m\u001b[38;5;124m\"\u001b[39m\n",
      "\u001b[0;31mTypeError\u001b[0m: 'str' object does not support item assignment"
     ]
    }
   ],
   "source": [
    "b[0]=\"v\""
   ]
  },
  {
   "cell_type": "markdown",
   "id": "e180a098-16ef-40f5-a002-37424951c875",
   "metadata": {},
   "source": [
    "Tuples"
   ]
  },
  {
   "cell_type": "code",
   "execution_count": 59,
   "id": "335559db-feb2-4c67-a254-16cf7ec5dc92",
   "metadata": {},
   "outputs": [],
   "source": [
    "t=(5,\"Anjali\",22.8,5+6j)"
   ]
  },
  {
   "cell_type": "code",
   "execution_count": 60,
   "id": "c02dbbaf-5a47-420e-b91a-34f72bd16c3c",
   "metadata": {},
   "outputs": [
    {
     "data": {
      "text/plain": [
       "tuple"
      ]
     },
     "execution_count": 60,
     "metadata": {},
     "output_type": "execute_result"
    }
   ],
   "source": [
    "type(t)"
   ]
  },
  {
   "cell_type": "code",
   "execution_count": 61,
   "id": "630860ac-25da-4c3c-b55c-3235a6d2f03d",
   "metadata": {},
   "outputs": [
    {
     "data": {
      "text/plain": [
       "4"
      ]
     },
     "execution_count": 61,
     "metadata": {},
     "output_type": "execute_result"
    }
   ],
   "source": [
    "len(t)"
   ]
  },
  {
   "cell_type": "code",
   "execution_count": 62,
   "id": "4048a4e6-5fd9-4dae-a379-1773561a3b9f",
   "metadata": {},
   "outputs": [
    {
     "data": {
      "text/plain": [
       "(5+6j)"
      ]
     },
     "execution_count": 62,
     "metadata": {},
     "output_type": "execute_result"
    }
   ],
   "source": [
    "t[3]"
   ]
  },
  {
   "cell_type": "code",
   "execution_count": 63,
   "id": "9dd1c07a-e3ed-4fce-9371-9555d2d4cd00",
   "metadata": {},
   "outputs": [
    {
     "data": {
      "text/plain": [
       "('Anjali', 22.8)"
      ]
     },
     "execution_count": 63,
     "metadata": {},
     "output_type": "execute_result"
    }
   ],
   "source": [
    "t[1:3]"
   ]
  },
  {
   "cell_type": "code",
   "execution_count": 64,
   "id": "bbba6217-b5bf-4a74-aa1f-a380007e32e5",
   "metadata": {},
   "outputs": [
    {
     "data": {
      "text/plain": [
       "((5+6j), 22.8, 'Anjali', 5)"
      ]
     },
     "execution_count": 64,
     "metadata": {},
     "output_type": "execute_result"
    }
   ],
   "source": [
    "t[: :-1]"
   ]
  },
  {
   "cell_type": "code",
   "execution_count": 65,
   "id": "7d525e68-b9a5-40d7-b726-ab8df0aec1df",
   "metadata": {},
   "outputs": [
    {
     "data": {
      "text/plain": [
       "[5,\n",
       " ['vikash', 25],\n",
       " 1,\n",
       " 'pwskills',\n",
       " True,\n",
       " 'Female',\n",
       " (5+8j),\n",
       " 'Kumari',\n",
       " 26.4,\n",
       " 'Anjali',\n",
       " 64,\n",
       " 54]"
      ]
     },
     "execution_count": 65,
     "metadata": {},
     "output_type": "execute_result"
    }
   ],
   "source": [
    "l"
   ]
  },
  {
   "cell_type": "code",
   "execution_count": 67,
   "id": "b5ce9a08-c9cc-4937-9553-6f5a7858f7de",
   "metadata": {},
   "outputs": [
    {
     "ename": "AttributeError",
     "evalue": "'tuple' object has no attribute 'sort'",
     "output_type": "error",
     "traceback": [
      "\u001b[0;31m---------------------------------------------------------------------------\u001b[0m",
      "\u001b[0;31mAttributeError\u001b[0m                            Traceback (most recent call last)",
      "Cell \u001b[0;32mIn[67], line 1\u001b[0m\n\u001b[0;32m----> 1\u001b[0m \u001b[43mt\u001b[49m\u001b[38;5;241;43m.\u001b[39;49m\u001b[43msort\u001b[49m()\n",
      "\u001b[0;31mAttributeError\u001b[0m: 'tuple' object has no attribute 'sort'"
     ]
    }
   ],
   "source": [
    "t.sort()"
   ]
  },
  {
   "cell_type": "code",
   "execution_count": 68,
   "id": "40f66ac4-e762-4388-aa7d-f39bdd13ca49",
   "metadata": {},
   "outputs": [
    {
     "data": {
      "text/plain": [
       "1"
      ]
     },
     "execution_count": 68,
     "metadata": {},
     "output_type": "execute_result"
    }
   ],
   "source": [
    "t.count(5)"
   ]
  },
  {
   "cell_type": "markdown",
   "id": "43d0c86e-2563-46a3-8205-ed8792c918c6",
   "metadata": {},
   "source": [
    "t.index(5)"
   ]
  },
  {
   "cell_type": "markdown",
   "id": "62784998-4f81-488e-bffc-b4491f94f574",
   "metadata": {},
   "source": [
    "SET"
   ]
  },
  {
   "cell_type": "markdown",
   "id": "df27faa9-2ea0-434a-9455-959b635d95a4",
   "metadata": {},
   "source": [
    "set can store tuple in it but not list"
   ]
  },
  {
   "cell_type": "code",
   "execution_count": 71,
   "id": "31e51ee5-7f94-4e8e-9105-b79456e3c89a",
   "metadata": {},
   "outputs": [],
   "source": [
    "s={}   #Empty variable enclosed with {} is termed as dictionary"
   ]
  },
  {
   "cell_type": "code",
   "execution_count": 72,
   "id": "3ecf944d-573a-4c00-975e-e1b51499afec",
   "metadata": {},
   "outputs": [
    {
     "data": {
      "text/plain": [
       "dict"
      ]
     },
     "execution_count": 72,
     "metadata": {},
     "output_type": "execute_result"
    }
   ],
   "source": [
    "type(s)"
   ]
  },
  {
   "cell_type": "code",
   "execution_count": 73,
   "id": "7be065d1-483d-434a-8c28-36977038f465",
   "metadata": {},
   "outputs": [],
   "source": [
    "w={2,66,7,45}"
   ]
  },
  {
   "cell_type": "code",
   "execution_count": 74,
   "id": "a242ba41-5c03-41fb-8426-017d917a8487",
   "metadata": {},
   "outputs": [
    {
     "data": {
      "text/plain": [
       "set"
      ]
     },
     "execution_count": 74,
     "metadata": {},
     "output_type": "execute_result"
    }
   ],
   "source": [
    "type(w)     #variable with different values enclosed with {} is termed as dictionary"
   ]
  },
  {
   "cell_type": "code",
   "execution_count": 76,
   "id": "77606553-eb98-47d2-a306-3c7c60c22c65",
   "metadata": {},
   "outputs": [],
   "source": [
    "st={2,5,\"Anjali\",(55.2,\"virus\",22)}   #set can have tuples in it"
   ]
  },
  {
   "cell_type": "code",
   "execution_count": 77,
   "id": "183eaadc-7f37-4b4c-aa22-e1b4802daea5",
   "metadata": {},
   "outputs": [
    {
     "data": {
      "text/plain": [
       "set"
      ]
     },
     "execution_count": 77,
     "metadata": {},
     "output_type": "execute_result"
    }
   ],
   "source": [
    "type(st)"
   ]
  },
  {
   "cell_type": "code",
   "execution_count": 79,
   "id": "c8fee9bf-dd59-4aa6-89f6-1aadb80bd317",
   "metadata": {},
   "outputs": [
    {
     "ename": "TypeError",
     "evalue": "unhashable type: 'list'",
     "output_type": "error",
     "traceback": [
      "\u001b[0;31m---------------------------------------------------------------------------\u001b[0m",
      "\u001b[0;31mTypeError\u001b[0m                                 Traceback (most recent call last)",
      "Cell \u001b[0;32mIn[79], line 1\u001b[0m\n\u001b[0;32m----> 1\u001b[0m sl\u001b[38;5;241m=\u001b[39m{\u001b[38;5;241m2\u001b[39m,\u001b[38;5;241m5\u001b[39m,\u001b[38;5;124m\"\u001b[39m\u001b[38;5;124mAnjali\u001b[39m\u001b[38;5;124m\"\u001b[39m,[\u001b[38;5;241m55.2\u001b[39m,\u001b[38;5;124m\"\u001b[39m\u001b[38;5;124mvirus\u001b[39m\u001b[38;5;124m\"\u001b[39m,\u001b[38;5;241m22\u001b[39m]}    \u001b[38;5;66;03m#set can't have list in it\u001b[39;00m\n",
      "\u001b[0;31mTypeError\u001b[0m: unhashable type: 'list'"
     ]
    }
   ],
   "source": [
    "sl={2,5,\"Anjali\",[55.2,\"virus\",22]}    #set can't have list in it"
   ]
  },
  {
   "cell_type": "markdown",
   "id": "74a0e707-ccba-4550-a3d3-da1b6de200fb",
   "metadata": {},
   "source": [
    "PROPERTY OF SET - set will eliminate repeated values"
   ]
  },
  {
   "cell_type": "code",
   "execution_count": 86,
   "id": "9170f05c-bb73-4826-964b-749f0ec87ba4",
   "metadata": {},
   "outputs": [],
   "source": [
    "s2={2,3,5,66,2,46,22,3,5,66,46,22,\"Anjali\",\"anjali\",\"Anjali\"}"
   ]
  },
  {
   "cell_type": "code",
   "execution_count": 87,
   "id": "57469c44-585d-4667-b22c-efe519d31399",
   "metadata": {},
   "outputs": [
    {
     "data": {
      "text/plain": [
       "{2, 22, 3, 46, 5, 66, 'Anjali', 'anjali'}"
      ]
     },
     "execution_count": 87,
     "metadata": {},
     "output_type": "execute_result"
    }
   ],
   "source": [
    "s2"
   ]
  },
  {
   "cell_type": "code",
   "execution_count": 88,
   "id": "288574ec-8a3e-41c1-adc1-0bb0cd775a6c",
   "metadata": {},
   "outputs": [],
   "source": [
    "l1={2,3,5,5,6,2,3,5,6,3,4,5}"
   ]
  },
  {
   "cell_type": "code",
   "execution_count": 89,
   "id": "77c01c12-1457-478b-b977-d0f09b862c15",
   "metadata": {},
   "outputs": [
    {
     "data": {
      "text/plain": [
       "{2, 3, 4, 5, 6}"
      ]
     },
     "execution_count": 89,
     "metadata": {},
     "output_type": "execute_result"
    }
   ],
   "source": [
    "set(l1)        #set is also available as a function for list"
   ]
  },
  {
   "cell_type": "code",
   "execution_count": 92,
   "id": "8c6266c7-2c7a-4bfa-b927-93af11022622",
   "metadata": {},
   "outputs": [],
   "source": [
    "t1={2,3,5,5,6,2,3,5,6,3,4,5}     ##set is also available as a function for tuple"
   ]
  },
  {
   "cell_type": "code",
   "execution_count": 91,
   "id": "b04b1c82-959d-4b22-80c5-6114cb003d33",
   "metadata": {},
   "outputs": [
    {
     "data": {
      "text/plain": [
       "{2, 3, 4, 5, 6}"
      ]
     },
     "execution_count": 91,
     "metadata": {},
     "output_type": "execute_result"
    }
   ],
   "source": [
    "set(t1)"
   ]
  },
  {
   "cell_type": "code",
   "execution_count": 95,
   "id": "cd5941f0-85ba-4e6a-a827-e6be7a65f8e8",
   "metadata": {},
   "outputs": [],
   "source": [
    "s3={54,254,67,254,\"abc\",54,69}"
   ]
  },
  {
   "cell_type": "code",
   "execution_count": 97,
   "id": "5567424f-19f3-4224-a3d7-f1372eb08f70",
   "metadata": {},
   "outputs": [
    {
     "data": {
      "text/plain": [
       "{254, 54, 67, 69, 'abc'}"
      ]
     },
     "execution_count": 97,
     "metadata": {},
     "output_type": "execute_result"
    }
   ],
   "source": [
    "s3           #set doesnt arrange the element in order"
   ]
  },
  {
   "cell_type": "code",
   "execution_count": 1,
   "id": "d0b52567-9adb-4d99-bf84-98a006134d54",
   "metadata": {},
   "outputs": [],
   "source": [
    "t=(5,8,6)"
   ]
  },
  {
   "cell_type": "code",
   "execution_count": 2,
   "id": "dfc1339b-f8ce-4ab6-b352-a1b6d3bd7b9f",
   "metadata": {},
   "outputs": [],
   "source": [
    "t1=(7,6,4)"
   ]
  },
  {
   "cell_type": "code",
   "execution_count": 3,
   "id": "ee30b6c1-d76f-43c7-baef-9c8ea736ea08",
   "metadata": {},
   "outputs": [
    {
     "data": {
      "text/plain": [
       "(5, 8, 6, 7, 6, 4)"
      ]
     },
     "execution_count": 3,
     "metadata": {},
     "output_type": "execute_result"
    }
   ],
   "source": [
    "t+t1"
   ]
  },
  {
   "cell_type": "code",
   "execution_count": null,
   "id": "55a67f52-9a1a-47f2-930a-35239814a3f6",
   "metadata": {},
   "outputs": [],
   "source": []
  }
 ],
 "metadata": {
  "kernelspec": {
   "display_name": "Python 3 (ipykernel)",
   "language": "python",
   "name": "python3"
  },
  "language_info": {
   "codemirror_mode": {
    "name": "ipython",
    "version": 3
   },
   "file_extension": ".py",
   "mimetype": "text/x-python",
   "name": "python",
   "nbconvert_exporter": "python",
   "pygments_lexer": "ipython3",
   "version": "3.10.8"
  }
 },
 "nbformat": 4,
 "nbformat_minor": 5
}
